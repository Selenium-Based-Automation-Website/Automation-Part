{
 "cells": [
  {
   "cell_type": "markdown",
   "id": "e8a75bd9",
   "metadata": {},
   "source": [
    "# ** AUTOMATIC PAN CARD FORM FILLING USING PYTHON SELENIUM **"
   ]
  },
  {
   "cell_type": "markdown",
   "id": "b7eecfff",
   "metadata": {},
   "source": [
    "### Import Some Library"
   ]
  },
  {
   "cell_type": "code",
   "execution_count": 1,
   "id": "d26f3833",
   "metadata": {},
   "outputs": [],
   "source": [
    "from selenium import webdriver\n",
    "import easyocr\n",
    "import cv2\n",
    "from IPython.display import Image\n",
    "from selenium.webdriver.support.select import Select\n",
    "import time"
   ]
  },
  {
   "cell_type": "markdown",
   "id": "d99392e1",
   "metadata": {},
   "source": [
    "### Open the Browser Using Selenium Webdriver"
   ]
  },
  {
   "cell_type": "code",
   "execution_count": 2,
   "id": "862575d8",
   "metadata": {},
   "outputs": [
    {
     "name": "stderr",
     "output_type": "stream",
     "text": [
      "<ipython-input-2-a90302056788>:3: DeprecationWarning: executable_path has been deprecated, please pass in a Service object\n",
      "  driver = webdriver.Chrome('chromedriver.exe',options = chrome_options )\n"
     ]
    }
   ],
   "source": [
    "chrome_options = webdriver.ChromeOptions()\n",
    "chrome_options.add_argument('--incognito')\n",
    "driver = webdriver.Chrome('chromedriver.exe',options = chrome_options )\n",
    "driver.get('https://www.onlineservices.nsdl.com/paam/endUserRegisterContact.html')\n",
    "driver.maximize_window()"
   ]
  },
  {
   "cell_type": "markdown",
   "id": "d722e0fc",
   "metadata": {},
   "source": [
    "### User Data"
   ]
  },
  {
   "cell_type": "code",
   "execution_count": 3,
   "id": "d4d78d51",
   "metadata": {},
   "outputs": [],
   "source": [
    "name =\"Abdul Raza Shaikh\"\n",
    "Father_name=\"Mohd Saeed Shaikh\"\n",
    "Mob_number=\"8899124536\"\n",
    "Aadhaar_No=\"989876762345\"\n",
    "Email=\"abcd@gmail.com\"\n",
    "Gender=\"Male\"\n",
    "State=\"Maharashtra\"\n",
    "City=\"Mumbai\"\n",
    "Pincode=\"400070\"\n",
    "Title=\"Shri\"\n",
    "D_O_B=\"20/08/2001\""
   ]
  },
  {
   "cell_type": "markdown",
   "id": "19861b16",
   "metadata": {},
   "source": [
    "### Regiteration Form Data Filling"
   ]
  },
  {
   "cell_type": "code",
   "execution_count": 4,
   "id": "6c76c9d4",
   "metadata": {},
   "outputs": [
    {
     "name": "stderr",
     "output_type": "stream",
     "text": [
      "<ipython-input-4-666203f8eee2>:1: DeprecationWarning: find_element_by_* commands are deprecated. Please use find_element() instead\n",
      "  Type = driver.find_element_by_id(\"type\")\n",
      "<ipython-input-4-666203f8eee2>:5: DeprecationWarning: find_element_by_* commands are deprecated. Please use find_element() instead\n",
      "  Cat = driver.find_element_by_id(\"cat_applicant1\")\n",
      "<ipython-input-4-666203f8eee2>:9: DeprecationWarning: find_element_by_* commands are deprecated. Please use find_element() instead\n",
      "  tit = driver.find_element_by_id(\"rvNameInitials\")\n",
      "<ipython-input-4-666203f8eee2>:13: DeprecationWarning: find_element_by_* commands are deprecated. Please use find_element() instead\n",
      "  full_name = driver.find_element_by_id(\"l_name_end\")\n",
      "<ipython-input-4-666203f8eee2>:16: DeprecationWarning: find_element_by_* commands are deprecated. Please use find_element() instead\n",
      "  DOB = driver.find_element_by_id(\"date_of_birth_reg\")\n",
      "<ipython-input-4-666203f8eee2>:19: DeprecationWarning: find_element_by_* commands are deprecated. Please use find_element() instead\n",
      "  e_click = driver.find_element_by_css_selector(\"#endUserContact > div:nth-child(3) > div > div:nth-child(3) > div:nth-child(2) > div > label\")\n",
      "<ipython-input-4-666203f8eee2>:22: DeprecationWarning: find_element_by_* commands are deprecated. Please use find_element() instead\n",
      "  Email_ = driver.find_element_by_id(\"email_id2\")\n",
      "<ipython-input-4-666203f8eee2>:25: DeprecationWarning: find_element_by_* commands are deprecated. Please use find_element() instead\n",
      "  MOB = driver.find_element_by_id(\"rvContactNo\")\n",
      "<ipython-input-4-666203f8eee2>:28: DeprecationWarning: find_element_by_* commands are deprecated. Please use find_element() instead\n",
      "  check_box_1 = driver.find_element_by_css_selector(\"#consent\")\n"
     ]
    }
   ],
   "source": [
    "Type = driver.find_element_by_id(\"type\")\n",
    "Application_type = Select(Type)\n",
    "Application_type.select_by_value('49A')\n",
    "\n",
    "Cat = driver.find_element_by_id(\"cat_applicant1\")\n",
    "Cat_type = Select(Cat)\n",
    "Cat_type.select_by_value('P')\n",
    "time.sleep(5)\n",
    "tit = driver.find_element_by_id(\"rvNameInitials\")\n",
    "tit_type = Select(tit)\n",
    "tit_type.select_by_index(1)\n",
    "\n",
    "full_name = driver.find_element_by_id(\"l_name_end\")\n",
    "full_name.send_keys(name)\n",
    "\n",
    "DOB = driver.find_element_by_id(\"date_of_birth_reg\")\n",
    "DOB.send_keys(D_O_B)\n",
    "\n",
    "e_click = driver.find_element_by_css_selector(\"#endUserContact > div:nth-child(3) > div > div:nth-child(3) > div:nth-child(2) > div > label\")\n",
    "e_click.click()\n",
    "\n",
    "Email_ = driver.find_element_by_id(\"email_id2\")\n",
    "Email_.send_keys(Email)\n",
    "\n",
    "MOB = driver.find_element_by_id(\"rvContactNo\")\n",
    "MOB.send_keys(Mob_number)\n",
    "\n",
    "check_box_1 = driver.find_element_by_css_selector(\"#consent\")\n",
    "check_box_1.click()"
   ]
  },
  {
   "cell_type": "markdown",
   "id": "39f4d873",
   "metadata": {},
   "source": [
    "### Read the Captcha Using EasyOCR in Python"
   ]
  },
  {
   "cell_type": "code",
   "execution_count": 5,
   "id": "4d423899",
   "metadata": {},
   "outputs": [
    {
     "name": "stderr",
     "output_type": "stream",
     "text": [
      "<ipython-input-5-4277ccb31a32>:1: DeprecationWarning: find_element_by_* commands are deprecated. Please use find_element() instead\n",
      "  capcha = driver.find_element_by_id('captchaImg1')\n",
      "CUDA not available - defaulting to CPU. Note: This module is much faster with a GPU.\n",
      "<ipython-input-5-4277ccb31a32>:7: DeprecationWarning: find_element_by_* commands are deprecated. Please use find_element() instead\n",
      "  capcha_fill = driver.find_element_by_id('captcha1')\n"
     ]
    }
   ],
   "source": [
    "capcha = driver.find_element_by_id('captchaImg1')\n",
    "capcha.screenshot('capcha_.png')\n",
    "reader = easyocr.Reader(['en'])\n",
    "Image(\"capcha_.png\")\n",
    "output = reader.readtext('capcha_.png')\n",
    "cord = output[-1][1]\n",
    "capcha_fill = driver.find_element_by_id('captcha1')\n",
    "capcha_fill.send_keys(cord)"
   ]
  },
  {
   "cell_type": "code",
   "execution_count": 6,
   "id": "e9c2f86a",
   "metadata": {},
   "outputs": [
    {
     "data": {
      "image/png": "[encoded data removed]",
      "text/plain": [
       "<IPython.core.display.Image object>"
      ]
     },
     "execution_count": 6,
     "metadata": {},
     "output_type": "execute_result"
    }
   ],
   "source": [
    "Image(\"capcha_.png\")"
   ]
  },
  {
   "cell_type": "code",
   "execution_count": 7,
   "id": "423ded3c",
   "metadata": {},
   "outputs": [
    {
     "data": {
      "text/plain": [
       "'EQPPV'"
      ]
     },
     "execution_count": 7,
     "metadata": {},
     "output_type": "execute_result"
    }
   ],
   "source": [
    "cord"
   ]
  },
  {
   "cell_type": "code",
   "execution_count": 8,
   "id": "de40d1cb",
   "metadata": {},
   "outputs": [
    {
     "name": "stderr",
     "output_type": "stream",
     "text": [
      "<ipython-input-8-b3256a93e0c6>:1: DeprecationWarning: find_element_by_* commands are deprecated. Please use find_element() instead\n",
      "  sub_button = driver.find_element_by_xpath(\"//button[@name='reg']\")\n"
     ]
    }
   ],
   "source": [
    "sub_button = driver.find_element_by_xpath(\"//button[@name='reg']\")\n",
    "sub_button.click()"
   ]
  },
  {
   "cell_type": "markdown",
   "id": "b07f6f83",
   "metadata": {},
   "source": [
    "### Next Page "
   ]
  },
  {
   "cell_type": "code",
   "execution_count": 9,
   "id": "158ffd72",
   "metadata": {},
   "outputs": [
    {
     "name": "stderr",
     "output_type": "stream",
     "text": [
      "<ipython-input-9-bf7bef6de3c5>:1: DeprecationWarning: find_element_by_* commands are deprecated. Please use find_element() instead\n",
      "  nxt_button_1 = driver.find_element_by_xpath(\"//button[@type='submit']\")\n"
     ]
    }
   ],
   "source": [
    "nxt_button_1 = driver.find_element_by_xpath(\"//button[@type='submit']\")\n",
    "nxt_button_1.click()"
   ]
  },
  {
   "cell_type": "markdown",
   "id": "3159c0c5",
   "metadata": {},
   "source": [
    "### Personal Details Page"
   ]
  },
  {
   "cell_type": "markdown",
   "id": "b9c07a7b",
   "metadata": {},
   "source": [
    "#### Spliting Aadhaar Number in to two different variable "
   ]
  },
  {
   "cell_type": "code",
   "execution_count": 10,
   "id": "a2bdbe4e",
   "metadata": {},
   "outputs": [
    {
     "data": {
      "text/plain": [
       "'989876762345'"
      ]
     },
     "execution_count": 10,
     "metadata": {},
     "output_type": "execute_result"
    }
   ],
   "source": [
    "Aadhaar_No"
   ]
  },
  {
   "cell_type": "code",
   "execution_count": 11,
   "id": "47cff18d",
   "metadata": {},
   "outputs": [
    {
     "data": {
      "text/plain": [
       "'98987676'"
      ]
     },
     "execution_count": 11,
     "metadata": {},
     "output_type": "execute_result"
    }
   ],
   "source": [
    "Aadhaar_no_8 = Aadhaar_No[:8]\n",
    "Aadhaar_no_8"
   ]
  },
  {
   "cell_type": "code",
   "execution_count": 12,
   "id": "052534e3",
   "metadata": {},
   "outputs": [
    {
     "data": {
      "text/plain": [
       "'2345'"
      ]
     },
     "execution_count": 12,
     "metadata": {},
     "output_type": "execute_result"
    }
   ],
   "source": [
    "Aadhaar_no_last_4 = Aadhaar_No[8:]\n",
    "Aadhaar_no_last_4"
   ]
  },
  {
   "cell_type": "code",
   "execution_count": 13,
   "id": "581a390b",
   "metadata": {},
   "outputs": [
    {
     "name": "stderr",
     "output_type": "stream",
     "text": [
      "<ipython-input-13-8f5a44b09966>:2: DeprecationWarning: find_element_by_* commands are deprecated. Please use find_element() instead\n",
      "  last_4 = driver.find_element_by_id(\"aadhaarNo_2\")\n"
     ]
    }
   ],
   "source": [
    "time.sleep(2)\n",
    "last_4 = driver.find_element_by_id(\"aadhaarNo_2\")\n",
    "last_4.send_keys(Aadhaar_no_last_4)"
   ]
  },
  {
   "cell_type": "code",
   "execution_count": 14,
   "id": "3fdaefcf",
   "metadata": {},
   "outputs": [
    {
     "name": "stderr",
     "output_type": "stream",
     "text": [
      "<ipython-input-14-e6ac5839468d>:1: DeprecationWarning: find_element_by_* commands are deprecated. Please use find_element() instead\n",
      "  here = driver.find_element_by_id(\"consentEkyc\")\n",
      "<ipython-input-14-e6ac5839468d>:5: DeprecationWarning: find_element_by_* commands are deprecated. Please use find_element() instead\n",
      "  select_gender = driver.find_element_by_id(\"gender\")\n",
      "<ipython-input-14-e6ac5839468d>:9: DeprecationWarning: find_element_by_* commands are deprecated. Please use find_element() instead\n",
      "  father_name = driver.find_element_by_id(\"fal_name\")\n",
      "<ipython-input-14-e6ac5839468d>:12: DeprecationWarning: find_element_by_* commands are deprecated. Please use find_element() instead\n",
      "  nxt_button_2 = driver.find_element_by_link_text(\"Next\")\n"
     ]
    }
   ],
   "source": [
    "here = driver.find_element_by_id(\"consentEkyc\")\n",
    "here_by = Select(here)\n",
    "here_by.select_by_index(1)\n",
    "\n",
    "select_gender = driver.find_element_by_id(\"gender\")\n",
    "gender = Select(select_gender)\n",
    "gender.select_by_index(1)\n",
    "\n",
    "father_name = driver.find_element_by_id(\"fal_name\")\n",
    "father_name.send_keys(Father_name)\n",
    "\n",
    "nxt_button_2 = driver.find_element_by_link_text(\"Next\")\n",
    "nxt_button_2.click()"
   ]
  },
  {
   "cell_type": "code",
   "execution_count": 15,
   "id": "2b6787f9",
   "metadata": {},
   "outputs": [
    {
     "name": "stderr",
     "output_type": "stream",
     "text": [
      "<ipython-input-15-d37fc76c741f>:2: DeprecationWarning: find_element_by_* commands are deprecated. Please use find_element() instead\n",
      "  check_box_2 = driver.find_element_by_id(\"no_income\")\n",
      "<ipython-input-15-d37fc76c741f>:5: DeprecationWarning: find_element_by_* commands are deprecated. Please use find_element() instead\n",
      "  Country = driver.find_element_by_id(\"tel_num_isdcode\")\n",
      "<ipython-input-15-d37fc76c741f>:9: DeprecationWarning: find_element_by_* commands are deprecated. Please use find_element() instead\n",
      "  nxt_button_3 = driver.find_element_by_link_text(\"Next\")\n"
     ]
    }
   ],
   "source": [
    "time.sleep(2)\n",
    "check_box_2 = driver.find_element_by_id(\"no_income\")\n",
    "check_box_2.click()\n",
    "\n",
    "Country = driver.find_element_by_id(\"tel_num_isdcode\")\n",
    "Country_type = Select(Country)\n",
    "Country_type.select_by_value('91')\n",
    "\n",
    "nxt_button_3 = driver.find_element_by_link_text(\"Next\")\n",
    "nxt_button_3.click()\n"
   ]
  },
  {
   "cell_type": "code",
   "execution_count": 16,
   "id": "8958c0a0",
   "metadata": {},
   "outputs": [
    {
     "name": "stderr",
     "output_type": "stream",
     "text": [
      "<ipython-input-16-27959d855186>:2: DeprecationWarning: find_element_by_* commands are deprecated. Please use find_element() instead\n",
      "  check_box_3 = driver.find_element_by_id(\"aoSelection\")\n",
      "<ipython-input-16-27959d855186>:6: DeprecationWarning: find_element_by_* commands are deprecated. Please use find_element() instead\n",
      "  select_state = driver.find_element_by_id(\"state_aoCode\")\n",
      "<ipython-input-16-27959d855186>:11: DeprecationWarning: find_element_by_* commands are deprecated. Please use find_element() instead\n",
      "  select_city = driver.find_element_by_id(\"city_aoCode\")\n",
      "<ipython-input-16-27959d855186>:16: DeprecationWarning: find_element_by_* commands are deprecated. Please use find_element() instead\n",
      "  check_box_4 = driver.find_element_by_id(\"2023\")\n",
      "<ipython-input-16-27959d855186>:19: DeprecationWarning: find_element_by_* commands are deprecated. Please use find_element() instead\n",
      "  nxt_button_4 = driver.find_element_by_link_text(\"Next\")\n"
     ]
    }
   ],
   "source": [
    "time.sleep(2)\n",
    "check_box_3 = driver.find_element_by_id(\"aoSelection\")\n",
    "check_box_3.click()\n",
    "\n",
    "time.sleep(2)\n",
    "select_state = driver.find_element_by_id(\"state_aoCode\")\n",
    "state = Select(select_state)\n",
    "state.select_by_value('19')\n",
    "\n",
    "time.sleep(2)\n",
    "select_city = driver.find_element_by_id(\"city_aoCode\")\n",
    "city = Select(select_city)\n",
    "city.select_by_value('1')\n",
    "\n",
    "time.sleep(2)\n",
    "check_box_4 = driver.find_element_by_id(\"2023\")\n",
    "check_box_4.click()\n",
    "\n",
    "nxt_button_4 = driver.find_element_by_link_text(\"Next\")\n",
    "nxt_button_4.click()"
   ]
  },
  {
   "cell_type": "code",
   "execution_count": 17,
   "id": "090e304d",
   "metadata": {},
   "outputs": [
    {
     "name": "stderr",
     "output_type": "stream",
     "text": [
      "<ipython-input-17-9b88f13749b4>:2: DeprecationWarning: find_element_by_* commands are deprecated. Please use find_element() instead\n",
      "  select_I_WE = driver.find_element_by_id(\"capacityVerifier\")\n",
      "<ipython-input-17-9b88f13749b4>:6: DeprecationWarning: find_element_by_* commands are deprecated. Please use find_element() instead\n",
      "  place_name = driver.find_element_by_id(\"verifierPlace\")\n"
     ]
    }
   ],
   "source": [
    "time.sleep(2)\n",
    "select_I_WE = driver.find_element_by_id(\"capacityVerifier\")\n",
    "I_WE = Select(select_I_WE)\n",
    "I_WE.select_by_index(1)\n",
    "\n",
    "place_name = driver.find_element_by_id(\"verifierPlace\")\n",
    "place_name.send_keys(City)\n",
    "\n"
   ]
  },
  {
   "cell_type": "code",
   "execution_count": 18,
   "id": "dd44cf14",
   "metadata": {},
   "outputs": [
    {
     "name": "stderr",
     "output_type": "stream",
     "text": [
      "<ipython-input-18-0633e3b0af5f>:1: DeprecationWarning: find_element_by_* commands are deprecated. Please use find_element() instead\n",
      "  nxt_button_5 = driver.find_element_by_id(\"submitFormSTM\")\n"
     ]
    }
   ],
   "source": [
    "nxt_button_5 = driver.find_element_by_id(\"submitFormSTM\")\n",
    "nxt_button_5.click()\n"
   ]
  },
  {
   "cell_type": "code",
   "execution_count": 19,
   "id": "26b15fe6",
   "metadata": {},
   "outputs": [
    {
     "name": "stderr",
     "output_type": "stream",
     "text": [
      "<ipython-input-19-358542aeb7ee>:2: DeprecationWarning: find_element_by_* commands are deprecated. Please use find_element() instead\n",
      "  Aadhaar_8 = driver.find_element_by_id(\"aadhaarNo_1\")\n",
      "<ipython-input-19-358542aeb7ee>:5: DeprecationWarning: find_element_by_* commands are deprecated. Please use find_element() instead\n",
      "  proceed = driver.find_element_by_id(\"confirmSubmit\")\n"
     ]
    }
   ],
   "source": [
    "time.sleep(2)\n",
    "Aadhaar_8 = driver.find_element_by_id(\"aadhaarNo_1\")\n",
    "Aadhaar_8.send_keys(Aadhaar_no_8)\n",
    "\n",
    "proceed = driver.find_element_by_id(\"confirmSubmit\")\n",
    "proceed.click()\n",
    "\n",
    "time.sleep(5)\n",
    "driver.quit()"
   ]
  }
 ],
 "metadata": {
  "kernelspec": {
   "display_name": "Python 3",
   "language": "python",
   "name": "python3"
  },
  "language_info": {
   "codemirror_mode": {
    "name": "ipython",
    "version": 3
   },
   "file_extension": ".py",
   "mimetype": "text/x-python",
   "name": "python",
   "nbconvert_exporter": "python",
   "pygments_lexer": "ipython3",
   "version": "3.8.8"
  }
 },
 "nbformat": 4,
 "nbformat_minor": 5
}
